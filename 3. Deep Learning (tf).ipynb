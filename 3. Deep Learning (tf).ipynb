{
 "cells": [
  {
   "cell_type": "markdown",
   "id": "fd81c2a9-5412-4d97-91c1-6859e51eeea3",
   "metadata": {},
   "source": [
    "# 백엔드 설정"
   ]
  },
  {
   "cell_type": "code",
   "execution_count": 1,
   "id": "0adcd2e9-aa4d-4c14-b2ce-6a7d037de166",
   "metadata": {},
   "outputs": [],
   "source": [
    "import numpy as np"
   ]
  },
  {
   "cell_type": "code",
   "execution_count": 2,
   "id": "d81318e1-be10-48c5-b4f4-229c12dae0c8",
   "metadata": {},
   "outputs": [],
   "source": [
    "import os\n",
    "\n",
    "# The distribution API is only implemented for the JAX backend for now.\n",
    "# os.environ[\"KERAS_BACKEND\"] = \"jax\"\n",
    "os.environ[\"KERAS_BACKEND\"] = \"tensorflow\""
   ]
  },
  {
   "cell_type": "markdown",
   "id": "9ec0c21a-6064-4e8e-bab5-fb930b2a84ea",
   "metadata": {},
   "source": [
    "# 데이터 처리"
   ]
  },
  {
   "cell_type": "code",
   "execution_count": 3,
   "id": "15d2ba26-5d26-4af3-a141-d64d98a1221f",
   "metadata": {},
   "outputs": [
    {
     "name": "stdout",
     "output_type": "stream",
     "text": [
      "Downloading data from https://storage.googleapis.com/tensorflow/tf-keras-datasets/mnist.npz\n",
      "\u001b[1m11490434/11490434\u001b[0m \u001b[32m━━━━━━━━━━━━━━━━━━━━\u001b[0m\u001b[37m\u001b[0m \u001b[1m0s\u001b[0m 0us/step\n"
     ]
    }
   ],
   "source": [
    "# 데이터셋 로드 및 전처리\n",
    "from keras.datasets import mnist\n",
    "(x_train, y_train), (x_test, y_test) = mnist.load_data()\n",
    "x_train, x_test = x_train / 255.0, x_test / 255.0"
   ]
  },
  {
   "cell_type": "code",
   "execution_count": 4,
   "id": "8e958b94-0575-4333-b15b-6b41635a145d",
   "metadata": {},
   "outputs": [],
   "source": [
    "# 데이터 평탄화 (flatten)\n",
    "x_train = x_train.reshape(-1, 784)\n",
    "x_test = x_test.reshape(-1, 784)"
   ]
  },
  {
   "cell_type": "markdown",
   "id": "fd3994cd-a0c2-431e-9a3d-a1bfce5b8965",
   "metadata": {},
   "source": [
    "# 모델 정의"
   ]
  },
  {
   "cell_type": "code",
   "execution_count": 5,
   "id": "aa577bb3-bc6e-4253-910b-79f420951937",
   "metadata": {},
   "outputs": [],
   "source": [
    "from keras.models import Sequential\n",
    "from keras.layers import Input, Dense\n",
    "\n",
    "# Keras 모델 정의\n",
    "model = Sequential([\n",
    "    Input(shape=(784,)),\n",
    "    Dense(128, activation='relu'),\n",
    "    Dense(10, activation='softmax')\n",
    "])\n",
    "\n",
    "# JAX 백엔드를 사용하여 모델 컴파일\n",
    "model.compile(optimizer='adam', loss='sparse_categorical_crossentropy', metrics=['accuracy'])"
   ]
  },
  {
   "cell_type": "markdown",
   "id": "f1c57658-cffc-447b-97c6-a2262454edc1",
   "metadata": {},
   "source": [
    "# 모델 트레이닝"
   ]
  },
  {
   "cell_type": "code",
   "execution_count": 6,
   "id": "36e6c02c-ee68-4b6a-9a34-b41f9b0ebbc7",
   "metadata": {},
   "outputs": [
    {
     "name": "stdout",
     "output_type": "stream",
     "text": [
      "Epoch 1/5\n",
      "\u001b[1m1875/1875\u001b[0m \u001b[32m━━━━━━━━━━━━━━━━━━━━\u001b[0m\u001b[37m\u001b[0m \u001b[1m3s\u001b[0m 2ms/step - accuracy: 0.8804 - loss: 0.4292 - val_accuracy: 0.9598 - val_loss: 0.1353\n",
      "Epoch 2/5\n",
      "\u001b[1m1875/1875\u001b[0m \u001b[32m━━━━━━━━━━━━━━━━━━━━\u001b[0m\u001b[37m\u001b[0m \u001b[1m3s\u001b[0m 2ms/step - accuracy: 0.9645 - loss: 0.1215 - val_accuracy: 0.9691 - val_loss: 0.1003\n",
      "Epoch 3/5\n",
      "\u001b[1m1875/1875\u001b[0m \u001b[32m━━━━━━━━━━━━━━━━━━━━\u001b[0m\u001b[37m\u001b[0m \u001b[1m3s\u001b[0m 2ms/step - accuracy: 0.9772 - loss: 0.0786 - val_accuracy: 0.9719 - val_loss: 0.0908\n",
      "Epoch 4/5\n",
      "\u001b[1m1875/1875\u001b[0m \u001b[32m━━━━━━━━━━━━━━━━━━━━\u001b[0m\u001b[37m\u001b[0m \u001b[1m3s\u001b[0m 2ms/step - accuracy: 0.9827 - loss: 0.0572 - val_accuracy: 0.9747 - val_loss: 0.0795\n",
      "Epoch 5/5\n",
      "\u001b[1m1875/1875\u001b[0m \u001b[32m━━━━━━━━━━━━━━━━━━━━\u001b[0m\u001b[37m\u001b[0m \u001b[1m3s\u001b[0m 2ms/step - accuracy: 0.9874 - loss: 0.0425 - val_accuracy: 0.9773 - val_loss: 0.0712\n"
     ]
    },
    {
     "data": {
      "text/plain": [
       "<keras.src.callbacks.history.History at 0xfffef0f34700>"
      ]
     },
     "execution_count": 6,
     "metadata": {},
     "output_type": "execute_result"
    }
   ],
   "source": [
    "# 모델 훈련\n",
    "model.fit(x_train, y_train, \n",
    "          epochs=5, batch_size=32, \n",
    "          validation_data=(x_test, y_test))"
   ]
  },
  {
   "cell_type": "markdown",
   "id": "4b48ab92-f219-45b0-b68e-ec0e2e312905",
   "metadata": {},
   "source": [
    "# 트레이닝 후, 예측"
   ]
  },
  {
   "cell_type": "code",
   "execution_count": 7,
   "id": "2b62a701-08bb-4d2b-9a65-5f82a08ce802",
   "metadata": {},
   "outputs": [],
   "source": [
    "import requests\n",
    "from PIL import Image\n",
    "from io import BytesIO"
   ]
  },
  {
   "cell_type": "code",
   "execution_count": 8,
   "id": "a6746522-c5ce-4021-a438-c0a72d1da145",
   "metadata": {},
   "outputs": [],
   "source": [
    "# 이미지 다운로드 및 전처리\n",
    "url = \"https://machinelearningmastery.com/wp-content/uploads/2019/02/sample_image.png\"\n",
    "response = requests.get(url)\n",
    "img = Image.open(BytesIO(response.content)).convert('L').resize((28, 28))\n",
    "img_array = np.array(img) / 255.0\n",
    "img_array = img_array.reshape(1, 784)"
   ]
  },
  {
   "cell_type": "code",
   "execution_count": 9,
   "id": "ac14c184-ea9c-4ddf-99bf-00068b32dce9",
   "metadata": {},
   "outputs": [],
   "source": [
    "import matplotlib.pyplot as plt"
   ]
  },
  {
   "cell_type": "code",
   "execution_count": 10,
   "id": "1d13f50b-b363-460c-845b-6ebd06277cd5",
   "metadata": {},
   "outputs": [
    {
     "data": {
      "image/png": "[encoded data removed]",
      "text/plain": [
       "<Figure size 640x480 with 1 Axes>"
      ]
     },
     "metadata": {},
     "output_type": "display_data"
    }
   ],
   "source": [
    "# 이미지 표시\n",
    "plt.imshow(np.array(img).reshape(28, 28), cmap='gray')\n",
    "plt.title(\"Downloaded Image\")\n",
    "plt.show()"
   ]
  },
  {
   "cell_type": "code",
   "execution_count": 11,
   "id": "1f4e07a7-b7a9-4988-89be-768967999a99",
   "metadata": {},
   "outputs": [
    {
     "name": "stdout",
     "output_type": "stream",
     "text": [
      "\u001b[1m1/1\u001b[0m \u001b[32m━━━━━━━━━━━━━━━━━━━━\u001b[0m\u001b[37m\u001b[0m \u001b[1m0s\u001b[0m 23ms/step\n",
      "Predicted class: 7\n"
     ]
    }
   ],
   "source": [
    "# 이미지 분류\n",
    "prediction = model.predict(img_array)\n",
    "predicted_class = np.argmax(prediction, axis=1)\n",
    "\n",
    "print(f\"Predicted class: {predicted_class[0]}\")"
   ]
  },
  {
   "cell_type": "code",
   "execution_count": null,
   "id": "4edcdb4d-6f57-451a-a795-7fd9abea995b",
   "metadata": {},
   "outputs": [],
   "source": []
  }
 ],
 "metadata": {
  "kernelspec": {
   "display_name": "Python 3 (ipykernel)",
   "language": "python",
   "name": "python3"
  },
  "language_info": {
   "codemirror_mode": {
    "name": "ipython",
    "version": 3
   },
   "file_extension": ".py",
   "mimetype": "text/x-python",
   "name": "python",
   "nbconvert_exporter": "python",
   "pygments_lexer": "ipython3",
   "version": "3.10.12"
  }
 },
 "nbformat": 4,
 "nbformat_minor": 5
}
