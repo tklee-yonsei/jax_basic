{
 "cells": [
  {
   "cell_type": "markdown",
   "id": "82ced73f-e8fa-4700-8c03-906648213bc8",
   "metadata": {},
   "source": [
    "# JAX 기본 배열"
   ]
  },
  {
   "cell_type": "markdown",
   "id": "587818a1-c653-4429-be3b-cea2c57ba644",
   "metadata": {},
   "source": [
    "## import"
   ]
  },
  {
   "cell_type": "markdown",
   "id": "a5a42012-efa0-4c78-b191-7fef49ab576a",
   "metadata": {},
   "source": [
    "JAX를 import 합니다."
   ]
  },
  {
   "cell_type": "code",
   "execution_count": 1,
   "id": "7af52b6c-1a41-46f5-b451-6d29d593f620",
   "metadata": {},
   "outputs": [],
   "source": [
    "import jax.numpy as jnp"
   ]
  },
  {
   "cell_type": "markdown",
   "id": "79fc4570-7d43-4dd2-8648-a739e55a12ec",
   "metadata": {},
   "source": [
    "## 기본 연산"
   ]
  },
  {
   "cell_type": "markdown",
   "id": "5c4cc48a-6033-41a5-889e-577527b93c28",
   "metadata": {},
   "source": [
    "기본 jax 배열의 생성은 다음과 같이 합니다."
   ]
  },
  {
   "cell_type": "code",
   "execution_count": 2,
   "id": "7835f3c3-88e4-4116-8ef0-3623ae39746e",
   "metadata": {},
   "outputs": [
    {
     "name": "stdout",
     "output_type": "stream",
     "text": [
      "[1. 2. 3.]\n"
     ]
    }
   ],
   "source": [
    "# JAX 배열 생성\n",
    "x = jnp.array([1.0, 2.0, 3.0])\n",
    "print(x)"
   ]
  },
  {
   "cell_type": "markdown",
   "id": "ba38a9eb-a997-4895-9cc7-30a291f0c8d8",
   "metadata": {},
   "source": [
    "기본 연산을 수행합니다."
   ]
  },
  {
   "cell_type": "code",
   "execution_count": 3,
   "id": "c4f13540-5346-4bc7-a21e-59cf6a38f8d5",
   "metadata": {},
   "outputs": [
    {
     "name": "stdout",
     "output_type": "stream",
     "text": [
      "[5. 7. 9.]\n"
     ]
    }
   ],
   "source": [
    "y = jnp.array([4.0, 5.0, 6.0])\n",
    "z = x + y\n",
    "print(z)"
   ]
  },
  {
   "cell_type": "markdown",
   "id": "32c0e690-b3ee-41fd-880d-659e6d4d459b",
   "metadata": {},
   "source": [
    "## 자동 미분"
   ]
  },
  {
   "cell_type": "markdown",
   "id": "8a8618be-e0d6-47f8-8264-e9d2b43452df",
   "metadata": {},
   "source": [
    "함수의 기울기를 자동으로 계산하는 `grad` 함수를 제공합니다."
   ]
  },
  {
   "cell_type": "code",
   "execution_count": 4,
   "id": "d384b71d-8499-4af6-a34a-2118e6a6a0a8",
   "metadata": {},
   "outputs": [
    {
     "name": "stdout",
     "output_type": "stream",
     "text": [
      "6.0\n"
     ]
    }
   ],
   "source": [
    "from jax import grad\n",
    "\n",
    "def square(x):\n",
    "    return x ** 2\n",
    "\n",
    "grad_square = grad(square)\n",
    "print(grad_square(3.0))"
   ]
  },
  {
   "cell_type": "markdown",
   "id": "46a83e9d-e913-48be-bc78-32ca5682f876",
   "metadata": {},
   "source": [
    "## 벡터화"
   ]
  },
  {
   "cell_type": "markdown",
   "id": "460dacf2-3fa1-4613-898e-c1e385d31f20",
   "metadata": {},
   "source": [
    "`vmap` 함수 - 벡터화된 연산을 쉽게 구현할 수 있도록 도와줍니다."
   ]
  },
  {
   "cell_type": "markdown",
   "id": "fdeddf2a-360a-4cf8-a132-e39e8cc3592b",
   "metadata": {},
   "source": [
    "### 두 개의 입력 배열을 받아 수학 연산 수행"
   ]
  },
  {
   "cell_type": "code",
   "execution_count": 27,
   "id": "1ba8952f-1a4d-48af-9acd-da1a0b936807",
   "metadata": {},
   "outputs": [
    {
     "name": "stdout",
     "output_type": "stream",
     "text": [
      "[[ 58  64]\n",
      " [139 154]]\n"
     ]
    }
   ],
   "source": [
    "import jax.numpy as jnp\n",
    "\n",
    "def matrix_multiplication(A, B):\n",
    "    return jnp.dot(A, B)\n",
    "\n",
    "# 2D 배열 생성\n",
    "A = jnp.array([[1, 2, 3], [4, 5, 6]])\n",
    "B = jnp.array([[7, 8], [9, 10], [11, 12]])\n",
    "\n",
    "# 단순 행렬 곱셈\n",
    "result = matrix_multiplication(A, B)\n",
    "print(result)  \n",
    "# 출력: [[ 58  64]\n",
    "#      [139 154]]"
   ]
  },
  {
   "cell_type": "code",
   "execution_count": 28,
   "id": "c2da1f24-49ec-461e-9745-9f20948b59b0",
   "metadata": {},
   "outputs": [
    {
     "name": "stdout",
     "output_type": "stream",
     "text": [
      "[[[[ 58  64]\n",
      "   [  4   5]]\n",
      "\n",
      "  [[139 154]\n",
      "   [ 10  11]]]\n",
      "\n",
      "\n",
      " [[[ 27  30]\n",
      "   [  2   2]]\n",
      "\n",
      "  [[ 54  60]\n",
      "   [  4   4]]]]\n"
     ]
    }
   ],
   "source": [
    "A_batch = jnp.array([[[1, 2, 3], [4, 5, 6]], [[1, 1, 1], [2, 2, 2]]])\n",
    "B_batch = jnp.array([[[7, 8], [9, 10], [11, 12]], [[1, 0], [0, 1], [1, 1]]])\n",
    "\n",
    "result2 = matrix_multiplication(A_batch, B_batch)\n",
    "print(result2)"
   ]
  },
  {
   "cell_type": "markdown",
   "id": "853be1a1-972e-4325-9d28-120a9f5f9b7b",
   "metadata": {},
   "source": [
    "### `vmap`을 사용한 벡터화"
   ]
  },
  {
   "cell_type": "markdown",
   "id": "85570b71-4924-408c-ada1-616ff833c492",
   "metadata": {},
   "source": [
    "`vmap`을 사용하여 각 요소가 서로 다른 매개변수를 사용할 수 있도록 함수 벡터화를 수행합니다."
   ]
  },
  {
   "cell_type": "code",
   "execution_count": 31,
   "id": "93ededf7-ce83-409c-8ad9-5b02425dec52",
   "metadata": {},
   "outputs": [
    {
     "name": "stdout",
     "output_type": "stream",
     "text": [
      "[[[ 58  64]\n",
      "  [139 154]]\n",
      "\n",
      " [[  2   2]\n",
      "  [  4   4]]]\n"
     ]
    }
   ],
   "source": [
    "from jax import vmap\n",
    "\n",
    "# 벡터화할 함수 정의\n",
    "def batch_matrix_multiplication(A, B):\n",
    "    return jnp.dot(A, B)\n",
    "\n",
    "# 벡터화된 함수 생성\n",
    "vectorized_batch_matrix_multiplication = vmap(batch_matrix_multiplication, in_axes=(0, 0))\n",
    "\n",
    "# 3D 배열 생성 (배치 크기 2)\n",
    "A_batch = jnp.array([[[1, 2, 3], [4, 5, 6]], [[1, 1, 1], [2, 2, 2]]])\n",
    "B_batch = jnp.array([[[7, 8], [9, 10], [11, 12]], [[1, 0], [0, 1], [1, 1]]])\n",
    "\n",
    "# 벡터화된 행렬 곱셈\n",
    "result = vectorized_batch_matrix_multiplication(A_batch, B_batch)\n",
    "print(result)"
   ]
  },
  {
   "cell_type": "code",
   "execution_count": null,
   "id": "d3902f26-d8fc-4d94-ab0c-b1e947e2ca25",
   "metadata": {},
   "outputs": [],
   "source": []
  }
 ],
 "metadata": {
  "kernelspec": {
   "display_name": "Python 3 (ipykernel)",
   "language": "python",
   "name": "python3"
  },
  "language_info": {
   "codemirror_mode": {
    "name": "ipython",
    "version": 3
   },
   "file_extension": ".py",
   "mimetype": "text/x-python",
   "name": "python",
   "nbconvert_exporter": "python",
   "pygments_lexer": "ipython3",
   "version": "3.10.12"
  }
 },
 "nbformat": 4,
 "nbformat_minor": 5
}
